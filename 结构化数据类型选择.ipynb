{
 "cells": [
  {
   "cell_type": "markdown",
   "metadata": {},
   "source": [
    "# 结构化数据类型选择\n",
    "\n",
    "总结下目前截至python 3.7为止可以用于描述结构化数据的类型,包括:\n",
    "\n",
    "+ `class`用常规的类定义\n",
    "+ `class with __slots__`用`__slots__`限定的类定义结构化数据\n",
    "+ `dataclass`用3.7加入的\n",
    "+ `collections.namedtuple` 使用具名元组描述结构化数据\n",
    "+ `typing.NamedTuple` 使用带类型标注的具名元组描述结构化数据\n",
    "+ `subclass of typing.NamedTuple` 继承带类型标注的具名元组,使用类型标注声明结构,用于描述结构化数据\n",
    "+ `subclass of ctypes.Structure` 继承ctypes.Structure,并使用ctypes中的C语言数据类型定义其`_fields_`字段以描述结构化数据\n",
    "\n",
    "\n",
    "todo"
   ]
  },
  {
   "cell_type": "code",
   "execution_count": 1,
   "metadata": {},
   "outputs": [
    {
     "data": {
      "text/plain": [
       "56"
      ]
     },
     "execution_count": 1,
     "metadata": {},
     "output_type": "execute_result"
    }
   ],
   "source": [
    "import sys\n",
    "from collections import namedtuple\n",
    "from typing import NamedTuple\n",
    "class Point2:\n",
    "    def __init__(self,x:int,y:int,z:int,a:int,b:int,c:int):\n",
    "        self.x = x\n",
    "        self.y = y\n",
    "        self.z = z\n",
    "        self.a = a\n",
    "        self.b = b\n",
    "        self.c = c\n",
    "        \n",
    "class Point3:\n",
    "    __slots__=(\"x\",\"y\",\"z\",\"a\",\"b\",\"c\")\n",
    "    def __init__(self,x:int,y:int,z:int,a:int,b:int,c:int):\n",
    "        self.x = x\n",
    "        self.y = y\n",
    "        self.z = z\n",
    "        self.a = a\n",
    "        self.b = b\n",
    "        self.c = c\n",
    "class Point3:\n",
    "    __slots__=(\"x\",\"y\",\"z\",\"a\",\"b\",\"c\")\n",
    "    def __init__(self,x:int,y:int,z:int,a:int,b:int,c:int):\n",
    "        self.x = x\n",
    "        self.y = y\n",
    "        self.z = z\n",
    "        self.a = a\n",
    "        self.b = b\n",
    "        self.c = c\n",
    "        \n",
    "Point4 = NamedTuple(\n",
    "    'Point4', \n",
    "    [\n",
    "        ('x', int),\n",
    "        ('y', int),\n",
    "        ('z', int),\n",
    "        ('a', int),\n",
    "        ('b', int),\n",
    "        ('c', int)\n",
    "    ]\n",
    ")\n",
    "Point5 = namedtuple(\n",
    "    'Point5', \n",
    "    [\n",
    "        'x',\n",
    "        'y',\n",
    "        'z',\n",
    "        'a',\n",
    "        'b',\n",
    "        'c'\n",
    "    ]\n",
    ")\n",
    "\n",
    "\n",
    "class Point(NamedTuple):\n",
    "    x: int\n",
    "    y: int\n",
    "        \n",
    "        \n",
    "p2 = Point2(1,2,3,4,5,6)\n",
    "sys.getsizeof(p2)"
   ]
  },
  {
   "cell_type": "code",
   "execution_count": null,
   "metadata": {},
   "outputs": [],
   "source": []
  },
  {
   "cell_type": "code",
   "execution_count": null,
   "metadata": {},
   "outputs": [],
   "source": []
  }
 ],
 "metadata": {
  "kernelspec": {
   "display_name": "Python 3",
   "language": "python",
   "name": "python3"
  },
  "language_info": {
   "codemirror_mode": {
    "name": "ipython",
    "version": 3
   },
   "file_extension": ".py",
   "mimetype": "text/x-python",
   "name": "python",
   "nbconvert_exporter": "python",
   "pygments_lexer": "ipython3",
   "version": "3.7.0"
  }
 },
 "nbformat": 4,
 "nbformat_minor": 2
}
